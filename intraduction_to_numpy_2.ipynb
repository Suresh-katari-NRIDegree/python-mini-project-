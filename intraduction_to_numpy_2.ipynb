{
  "nbformat": 4,
  "nbformat_minor": 0,
  "metadata": {
    "colab": {
      "provenance": [],
      "authorship_tag": "ABX9TyM2PA/2SkwovHbpkfKjp/ug",
      "include_colab_link": true
    },
    "kernelspec": {
      "name": "python3",
      "display_name": "Python 3"
    },
    "language_info": {
      "name": "python"
    }
  },
  "cells": [
    {
      "cell_type": "markdown",
      "metadata": {
        "id": "view-in-github",
        "colab_type": "text"
      },
      "source": [
        "<a href=\"https://colab.research.google.com/github/Suresh-katari-NRIDegree/python-mini-project-/blob/main/intraduction_to_numpy_2.ipynb\" target=\"_parent\"><img src=\"https://colab.research.google.com/assets/colab-badge.svg\" alt=\"Open In Colab\"/></a>"
      ]
    },
    {
      "cell_type": "code",
      "execution_count": 8,
      "metadata": {
        "id": "qfMI126u3D-9"
      },
      "outputs": [],
      "source": [
        "import numpy as np"
      ]
    },
    {
      "cell_type": "code",
      "source": [
        "# Recap\n",
        "arr = np.array([[1,2,3],[4,5,6]])"
      ],
      "metadata": {
        "id": "7_2A569b3TOH"
      },
      "execution_count": 20,
      "outputs": []
    },
    {
      "cell_type": "code",
      "source": [
        "type(arr)"
      ],
      "metadata": {
        "colab": {
          "base_uri": "https://localhost:8080/"
        },
        "id": "vwVL28K-3wN9",
        "outputId": "831f0373-164e-448e-cfe0-0a879301efad"
      },
      "execution_count": 4,
      "outputs": [
        {
          "output_type": "execute_result",
          "data": {
            "text/plain": [
              "numpy.ndarray"
            ]
          },
          "metadata": {},
          "execution_count": 4
        }
      ]
    },
    {
      "cell_type": "code",
      "source": [
        "# Dot product - n x n || n x p\n",
        "arr1 = np.random.randint(1,2,(3,1))"
      ],
      "metadata": {
        "id": "LG9IPdfH33dL"
      },
      "execution_count": 45,
      "outputs": []
    },
    {
      "cell_type": "code",
      "source": [
        "arr.shape\n",
        "arr1.shape"
      ],
      "metadata": {
        "colab": {
          "base_uri": "https://localhost:8080/"
        },
        "id": "gTJSi1Un4nWf",
        "outputId": "efda8753-0da4-4ba2-9104-045e589b050c"
      },
      "execution_count": 46,
      "outputs": [
        {
          "output_type": "execute_result",
          "data": {
            "text/plain": [
              "(3, 1)"
            ]
          },
          "metadata": {},
          "execution_count": 46
        }
      ]
    },
    {
      "cell_type": "code",
      "source": [
        "arr.size"
      ],
      "metadata": {
        "colab": {
          "base_uri": "https://localhost:8080/"
        },
        "id": "6k1Ni-s07zaV",
        "outputId": "0ab0e872-6dda-4ce3-a830-05a48e52db5b"
      },
      "execution_count": 48,
      "outputs": [
        {
          "output_type": "execute_result",
          "data": {
            "text/plain": [
              "3"
            ]
          },
          "metadata": {},
          "execution_count": 48
        }
      ]
    },
    {
      "cell_type": "code",
      "source": [
        "result = np.dot(arr1.T, arr)\n"
      ],
      "metadata": {
        "id": "otkbf6Qw4tnz"
      },
      "execution_count": 67,
      "outputs": []
    },
    {
      "cell_type": "code",
      "source": [
        "print(result)"
      ],
      "metadata": {
        "colab": {
          "base_uri": "https://localhost:8080/"
        },
        "id": "yTQzGfQ86pLa",
        "outputId": "203ca42c-cf32-4bc8-df3a-44b4b2e569ae"
      },
      "execution_count": 68,
      "outputs": [
        {
          "output_type": "stream",
          "name": "stdout",
          "text": [
            "[[3]]\n"
          ]
        }
      ]
    },
    {
      "cell_type": "code",
      "source": [
        "r1 = np.random.randint(10,20,(4,5))\n",
        "print(r1)"
      ],
      "metadata": {
        "colab": {
          "base_uri": "https://localhost:8080/"
        },
        "id": "e4yGWSfP8HRj",
        "outputId": "36f77556-b60c-4971-f388-1475c876e266"
      },
      "execution_count": 82,
      "outputs": [
        {
          "output_type": "stream",
          "name": "stdout",
          "text": [
            "[[17 14 15 13 17]\n",
            " [10 17 16 19 15]\n",
            " [17 17 16 16 12]\n",
            " [10 15 12 17 15]]\n"
          ]
        }
      ]
    },
    {
      "cell_type": "code",
      "source": [
        "r2 = np.eye(4)\n",
        "print(r2)"
      ],
      "metadata": {
        "colab": {
          "base_uri": "https://localhost:8080/"
        },
        "id": "yJPdSzWZIsUp",
        "outputId": "0cce2fa4-ac7e-43d1-da37-d02abb2ef248"
      },
      "execution_count": 83,
      "outputs": [
        {
          "output_type": "stream",
          "name": "stdout",
          "text": [
            "[[1. 0. 0. 0.]\n",
            " [0. 1. 0. 0.]\n",
            " [0. 0. 1. 0.]\n",
            " [0. 0. 0. 1.]]\n"
          ]
        }
      ]
    },
    {
      "cell_type": "code",
      "source": [
        "# r1. I\n",
        "result2 = np.dot(r2,r1)"
      ],
      "metadata": {
        "id": "KDwMNTbLI1O7"
      },
      "execution_count": 86,
      "outputs": []
    },
    {
      "cell_type": "code",
      "source": [
        "print(result2)"
      ],
      "metadata": {
        "colab": {
          "base_uri": "https://localhost:8080/"
        },
        "id": "43_xzoJ6Jba-",
        "outputId": "ef18d812-f3b6-48fa-b104-f48ab2d0f409"
      },
      "execution_count": 87,
      "outputs": [
        {
          "output_type": "stream",
          "name": "stdout",
          "text": [
            "[[17. 14. 15. 13. 17.]\n",
            " [10. 17. 16. 19. 15.]\n",
            " [17. 17. 16. 16. 12.]\n",
            " [10. 15. 12. 17. 15.]]\n"
          ]
        }
      ]
    },
    {
      "cell_type": "code",
      "source": [
        "# M. I = I. M = M"
      ],
      "metadata": {
        "id": "dSk57tpRJidY"
      },
      "execution_count": 88,
      "outputs": []
    },
    {
      "cell_type": "code",
      "source": [
        "# A-B ! = B.A"
      ],
      "metadata": {
        "id": "MycaKVljJiwW"
      },
      "execution_count": 89,
      "outputs": []
    },
    {
      "cell_type": "code",
      "source": [
        "# Mathematical operations\n",
        "# + - /\n",
        "t1 = np.random.randint(1,10,(3,3))\n",
        "t2 = np.random.randint(1,10,(3,3))"
      ],
      "metadata": {
        "id": "ZVMCH9FmJ7Cr"
      },
      "execution_count": 90,
      "outputs": []
    },
    {
      "cell_type": "code",
      "source": [
        "print(t1)\n",
        "print(t2)"
      ],
      "metadata": {
        "colab": {
          "base_uri": "https://localhost:8080/"
        },
        "id": "5uXFamI2KKb9",
        "outputId": "06604361-53b6-4f75-ae95-4034fe955964"
      },
      "execution_count": 91,
      "outputs": [
        {
          "output_type": "stream",
          "name": "stdout",
          "text": [
            "[[7 4 5]\n",
            " [7 1 5]\n",
            " [2 4 3]]\n",
            "[[5 7 5]\n",
            " [9 5 3]\n",
            " [2 7 2]]\n"
          ]
        }
      ]
    },
    {
      "cell_type": "code",
      "source": [
        "t3 = t1 + t2\n",
        "print(t3)"
      ],
      "metadata": {
        "colab": {
          "base_uri": "https://localhost:8080/"
        },
        "id": "xCD0SRc1KKtD",
        "outputId": "d237a609-2f79-456f-c817-094ae34f70ef"
      },
      "execution_count": 92,
      "outputs": [
        {
          "output_type": "stream",
          "name": "stdout",
          "text": [
            "[[12 11 10]\n",
            " [16  6  8]\n",
            " [ 4 11  5]]\n"
          ]
        }
      ]
    },
    {
      "cell_type": "code",
      "source": [
        "# Matrix Multiplication\n",
        "result = np.dot(arr1,arr2)"
      ],
      "metadata": {
        "id": "f59vitOiKWVW"
      },
      "execution_count": 93,
      "outputs": []
    },
    {
      "cell_type": "code",
      "source": [
        "# statistical data\n",
        "mean = t3.mean()\n",
        "max = t3.max()\n",
        "min = t3.min()\n",
        "std = t3.std()\n",
        "var = t3.var()\n"
      ],
      "metadata": {
        "id": "kQaJ1vn6-b1_"
      },
      "execution_count": 94,
      "outputs": []
    },
    {
      "cell_type": "code",
      "source": [
        "print(var)"
      ],
      "metadata": {
        "colab": {
          "base_uri": "https://localhost:8080/"
        },
        "id": "CyHCI1rR-0Cx",
        "outputId": "a1032b1c-11b2-472a-eba6-ee7b973b0060"
      },
      "execution_count": 95,
      "outputs": [
        {
          "output_type": "stream",
          "name": "stdout",
          "text": [
            "13.061728395061728\n"
          ]
        }
      ]
    },
    {
      "cell_type": "code",
      "source": [
        "print(std)"
      ],
      "metadata": {
        "colab": {
          "base_uri": "https://localhost:8080/"
        },
        "id": "OAm0e2fDOPbx",
        "outputId": "551b0c33-28a9-453e-d97e-99262cc269d7"
      },
      "execution_count": 96,
      "outputs": [
        {
          "output_type": "stream",
          "name": "stdout",
          "text": [
            "3.614101326064576\n"
          ]
        }
      ]
    },
    {
      "cell_type": "code",
      "source": [
        "std * std"
      ],
      "metadata": {
        "colab": {
          "base_uri": "https://localhost:8080/"
        },
        "id": "Gq9ISVX5-_M5",
        "outputId": "b11016f4-df68-43db-d16f-f01525268881"
      },
      "execution_count": 97,
      "outputs": [
        {
          "output_type": "execute_result",
          "data": {
            "text/plain": [
              "13.061728395061726"
            ]
          },
          "metadata": {},
          "execution_count": 97
        }
      ]
    },
    {
      "cell_type": "code",
      "source": [
        "# trigunmetrics functions\n",
        "# sin(x)\n",
        "# cos(x)\n",
        "# tan(x) - sin(x)\\cas(x)\n",
        "# cosec -\n",
        "# ses - 1 \\ cos(x)\n",
        "#cot -  1 \\tan(x)\n",
        "angles = np.array([0,30,45,60,90])\n",
        "result = np.sin(np.radians(angles))\n",
        "result1 = np.cos(np.radians(angles))\n",
        "result2 = np.tan(np.radians(angles))\n"
      ],
      "metadata": {
        "id": "8OYLFwgL_Bmf"
      },
      "execution_count": 98,
      "outputs": []
    },
    {
      "cell_type": "code",
      "source": [
        "# flliting\n",
        "# flliting\n",
        "import numpy as np\n",
        "arr = np.array([10,20,40,30])\n",
        "\n",
        "farr = arr[arr>20]\n",
        "\n",
        "print(farr)"
      ],
      "metadata": {
        "colab": {
          "base_uri": "https://localhost:8080/"
        },
        "id": "Rkt60RveEohT",
        "outputId": "9b61ae92-9c3f-4db4-fdde-6a57c9058216"
      },
      "execution_count": 80,
      "outputs": [
        {
          "output_type": "stream",
          "name": "stdout",
          "text": [
            "[40 30]\n"
          ]
        }
      ]
    }
  ]
}